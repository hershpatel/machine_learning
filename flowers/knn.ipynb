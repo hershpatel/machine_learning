{
 "metadata": {
  "name": "",
  "signature": "sha256:c32587dc2a61d3a2b52102ff1e02eb60f0054cb36cd4a8d86c57366c10db89e2"
 },
 "nbformat": 3,
 "nbformat_minor": 0,
 "worksheets": [
  {
   "cells": [
    {
     "cell_type": "code",
     "collapsed": false,
     "input": [
      "import csv\n",
      "import random\n",
      "import math\n",
      "split = 0.7\n",
      "with open('iris.data') as fp:\n",
      "    d = [[float(line[0]), float(line[1]), float(line[2]), float(line[3]), line[4]] for line in csv.reader(fp)]\n",
      "    random.shuffle(d)\n",
      "    trainingSet = d[:int(split*len(d))]\n",
      "    testSet = d[int(split*len(d)):]\n",
      "\n",
      "print(len(trainingSet))\n",
      "print(len(testSet))"
     ],
     "language": "python",
     "metadata": {},
     "outputs": [
      {
       "output_type": "stream",
       "stream": "stdout",
       "text": [
        "105\n",
        "45\n"
       ]
      }
     ],
     "prompt_number": 86
    },
    {
     "cell_type": "code",
     "collapsed": false,
     "input": [
      "def distanceFunction(point1, point2):\n",
      "    return math.sqrt(sum((point2[i] - point1[i])**2 for i in range(len(point1) - 1)))\n",
      "    \n",
      "print(distanceFunction(trainingSet[0], trainingSet[1]))"
     ],
     "language": "python",
     "metadata": {},
     "outputs": [
      {
       "output_type": "stream",
       "stream": "stdout",
       "text": [
        "0.7483314773547887\n"
       ]
      }
     ],
     "prompt_number": 87
    },
    {
     "cell_type": "code",
     "collapsed": false,
     "input": [
      "from collections import Counter\n",
      "\n",
      "def classify(point, k, pointset):\n",
      "    knearest = sorted([(distanceFunction(point, otherpoint), otherpoint[-1]) for otherpoint in pointset])[:k]\n",
      "    counter = Counter([entry[1] for entry in knearest])\n",
      "    return counter.most_common()[0][0]\n",
      "p = [6.4,3.2,5.7,2.3,'???']\n",
      "print(classify(p, 3, trainingSet))"
     ],
     "language": "python",
     "metadata": {},
     "outputs": [
      {
       "output_type": "stream",
       "stream": "stdout",
       "text": [
        "Iris-virginica\n"
       ]
      }
     ],
     "prompt_number": 88
    },
    {
     "cell_type": "code",
     "collapsed": false,
     "input": [
      "sum(classify(entry, 5, trainingSet) == entry[-1] for entry in testSet) / float(len(testSet))"
     ],
     "language": "python",
     "metadata": {},
     "outputs": [
      {
       "metadata": {},
       "output_type": "pyout",
       "prompt_number": 89,
       "text": [
        "0.9555555555555556"
       ]
      }
     ],
     "prompt_number": 89
    }
   ],
   "metadata": {}
  }
 ]
}