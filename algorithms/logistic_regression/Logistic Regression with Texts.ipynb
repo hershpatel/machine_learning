{
 "cells": [
  {
   "cell_type": "code",
   "execution_count": 2,
   "metadata": {
    "collapsed": false
   },
   "outputs": [
    {
     "name": "stdout",
     "output_type": "stream",
     "text": [
      "Number of spam messages: 747\n",
      "Number of ham messages: 4825\n",
      "computing the logistic regression model\n",
      "['ham' 'ham' 'ham' ..., 'ham' 'ham' 'ham']\n",
      "Printing the first 10 predictions\n",
      "[(0, 'ham'),\n",
      " (1, 'ham'),\n",
      " (2, 'ham'),\n",
      " (3, 'ham'),\n",
      " (4, 'ham'),\n",
      " (5, 'ham'),\n",
      " (6, 'ham'),\n",
      " (7, 'ham'),\n",
      " (8, 'ham'),\n",
      " (9, 'ham')]\n",
      "Accuracy 0.955967968369 [ 0.95454545  0.96411483  0.96770335  0.94736842  0.94610778]\n"
     ]
    }
   ],
   "source": [
    "# go to https://archive.ics.uci.edu/ml/datasets/SMS+Spam+Collection and download the data\n",
    "\n",
    "# unzip the data\n",
    "\n",
    "import pandas as pd\n",
    "import pprint\n",
    "\n",
    "df = pd.read_csv('smsspamcollection/SMSSpamCollection',delimiter='\\t',header=None)\n",
    "\n",
    "# look at the data\n",
    "\n",
    "print 'Number of spam messages:', df[df[0]=='spam'][0].count()\n",
    "\n",
    "print 'Number of ham messages:', df[df[0]=='ham'][0].count()\n",
    "\n",
    "# import libraries and classes\n",
    "\n",
    "import numpy as np\n",
    "\n",
    "from sklearn.feature_extraction.text import TfidfVectorizer\n",
    "\n",
    "from sklearn.linear_model.logistic import LogisticRegression\n",
    "\n",
    "from sklearn.cross_validation import train_test_split, cross_val_score\n",
    "\n",
    "# split data between training set (75%) and test set (25%)\n",
    "\n",
    "Xtrain_data, Xtest_data, Ytrain, Ytest = train_test_split(df[1],df[0])\n",
    "\n",
    "# pre-process data to extract word counts from each message\n",
    "\n",
    "vectorizer = TfidfVectorizer()\n",
    "\n",
    "Xtrain = vectorizer.fit_transform(Xtrain_data)\n",
    "\n",
    "Xtest = vectorizer.transform(Xtest_data)\n",
    "\n",
    "# compute the classification\n",
    "print 'computing the logistic regression model'\n",
    "\n",
    "classification = LogisticRegression()\n",
    "\n",
    "classification.fit(Xtrain,Ytrain)\n",
    "\n",
    "predictions = classification.predict(Xtest)\n",
    "\n",
    "print predictions\n",
    "\n",
    "# print the first 5 predictions together with the text of the email\n",
    "print 'Printing the first 10 predictions'\n",
    "results = list(enumerate(predictions[:10]))\n",
    "pp = pprint.PrettyPrinter()\n",
    "\n",
    "pp.pprint(results)\n",
    "# Evaluate the performance of the classifier using 5-fold cross-validation\n",
    "\n",
    "scores = cross_val_score(classification,Xtrain,Ytrain,cv=5)\n",
    "\n",
    "print 'Accuracy', np.mean(scores), scores\n",
    "\n",
    "\n"
   ]
  },
  {
   "cell_type": "code",
   "execution_count": null,
   "metadata": {
    "collapsed": true
   },
   "outputs": [],
   "source": []
  }
 ],
 "metadata": {
  "kernelspec": {
   "display_name": "Python 2",
   "language": "python",
   "name": "python2"
  },
  "language_info": {
   "codemirror_mode": {
    "name": "ipython",
    "version": 2
   },
   "file_extension": ".py",
   "mimetype": "text/x-python",
   "name": "python",
   "nbconvert_exporter": "python",
   "pygments_lexer": "ipython2",
   "version": "2.7.10"
  }
 },
 "nbformat": 4,
 "nbformat_minor": 0
}
